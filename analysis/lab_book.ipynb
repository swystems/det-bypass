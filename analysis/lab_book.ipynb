{
 "cells": [
  {
   "cell_type": "markdown",
   "id": "4b887af6-b142-4bf8-9faa-9d57680bcb0a",
   "metadata": {},
   "source": [
    "# A collection of experiments results, notes and considerations\n",
    "This playbook is a digital lab book to record experiments and keep track of\n",
    "the progress."
   ]
  },
  {
   "cell_type": "markdown",
   "id": "4ba5783e-e781-47bb-9bf9-067b3cc00a22",
   "metadata": {},
   "source": [
    "## X-Lane (custom bypass) jitter locality on FPGA SmartNIC \n",
    "> tests ran in date: 06/2023 and 07/2023\\\n",
    "> files: fide-eval repository, playbook bsc-fpga/fullts/*.ipynb, data: bsc-fpga/fullts/kbuf-logtype\n",
    "\n",
    "This benchmark uses a FPGA SmartNIC with FPGA timestamp functionality to\n",
    "breakdown the communication latency of the TX and RX path. The setup is a\n",
    "2 nodes connected with a p2p connection, no switch in between.\n",
    "\n",
    "```\n",
    "|SOC1|--->|FPGA1|------->|FPGA2|--->|SOC2|\n",
    "  ^          ^              ^         ^\n",
    " ts1        ts2            ts3       ts4\n",
    "```\n",
    "Timestamps ts2 and ts3 are taken respectively after and before the PCIe bus. \n",
    "ts1 is taken in the software send loop of the LKM. ts4 is an *optimistical\n",
    "timestamp*, taken as early as possible in a customised net driver (X-Lane\n",
    "Linux). It's worth noting that there might be additional non -negligible delay\n",
    "from ts4 to an application. \n",
    "\n",
    "No clock is sync'd (SOC-SOC nor SOC-FPGA), so we obtain the jitter through the difference\n",
    "of successive timestamps. For ts1: `ts1(n+1)-ts1(n), ts1(n+2)-ts1(n+1)...`, same for ts2, \n",
    "ts3 and ts4. Differences when comparing the plots allow us to detect whether the jitter occurred\n",
    "in the TX path, network, or RX path.\n",
    "\n",
    "### Relevant benchmark settings\n",
    "- Hardware: Intel BigSpringCanyon SmartNIC, SOC CPU @ 1.5GHz, FPGA clock @ 300MHz.\n",
    "- Sending interval: 1ms\n",
    "- isolcpus: yes\n",
    "- timing interrupts shielded: yes\n",
    "- no IRQ on isolated cores\n",
    "- maxpower state\n",
    "- logging type: kernel buffer\n",
    "- number of rounds: 20000\n"
   ]
  },
  {
   "cell_type": "markdown",
   "id": "b9ff6470-a994-4972-9787-4fad25f6a1f0",
   "metadata": {},
   "source": [
    "![comparison plot](plots/soc_fpga_comparison_20230705_1732.png)\n",
    "![comparison plot](plots/soc_fpga_comparison_20230726_1425.png)\n",
    "<!-- ![comparison plot](plots/soc_fpga_comparison_20230727_1732.png) -->\n"
   ]
  },
  {
   "cell_type": "code",
   "execution_count": null,
   "id": "2f7d3c35-b40d-4c99-a173-3c26ff251a7e",
   "metadata": {},
   "outputs": [],
   "source": []
  }
 ],
 "metadata": {
  "kernelspec": {
   "display_name": "Python 3 (ipykernel)",
   "language": "python",
   "name": "python3"
  },
  "language_info": {
   "codemirror_mode": {
    "name": "ipython",
    "version": 3
   },
   "file_extension": ".py",
   "mimetype": "text/x-python",
   "name": "python",
   "nbconvert_exporter": "python",
   "pygments_lexer": "ipython3",
   "version": "3.10.12"
  }
 },
 "nbformat": 4,
 "nbformat_minor": 5
}

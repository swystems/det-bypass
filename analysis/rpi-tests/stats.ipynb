{
 "cells": [
  {
   "cell_type": "markdown",
   "id": "315120dc",
   "metadata": {},
   "source": [
    "## UDP socket latency tests on Raspberry Pi 4 with varying CPU load\n",
    "Setup: Raspberry Pi 4 with Raspbian Buster connected to a 5Ghz home WiFi and \n",
    "a Dell Precision 5550 laptop. Test program: `no-bypass/main.c`"
   ]
  },
  {
   "cell_type": "code",
   "execution_count": 7,
   "id": "c66600a8-eed2-49f8-aa04-74a71e7a01ef",
   "metadata": {},
   "outputs": [],
   "source": [
    "import numpy as np\n",
    "import matplotlib.pyplot as plt\n",
    "import importlib\n",
    "import lib\n",
    "importlib.reload(lib)\n",
    "\n",
    "%matplotlib widget"
   ]
  },
  {
   "cell_type": "code",
   "execution_count": 8,
   "id": "9cd55ef2-95cb-40e0-b325-b181f7f8acab",
   "metadata": {},
   "outputs": [
    {
     "name": "stdout",
     "output_type": "stream",
     "text": [
      "UDP (no-bypass) 0% load:\n",
      "UDP (no-bypass) 0% load:\n",
      "min: 1e-06ms\n",
      "avg: 1.8206182700499998ms\n",
      "99.9th: 11.025974653000022ms\n",
      "99.99th: 13.72543993139874ms\n",
      "max: 14.723469ms\n"
     ]
    }
   ],
   "source": [
    "ts = lib.parse_timestamps(\"udp_0load.dat\")\n",
    "lats = lib.compute_latencies(ts) / 1000000\n",
    "\n",
    "print('UDP (no-bypass) 0% load:')\n",
    "print('UDP (no-bypass) 0% load:')\n",
    "print(f'min: {np.min(lats)}ms')\n",
    "print(f'avg: {np.average(lats)}ms')\n",
    "print(f'99.9th: {np.percentile(lats, 99.9)}ms')\n",
    "print(f'99.99th: {np.percentile(lats, 99.99)}ms')\n",
    "print(f'max: {np.max(lats)}ms')"
   ]
  },
  {
   "cell_type": "code",
   "execution_count": 9,
   "id": "e3ee75d2-07ea-49b9-a7a0-9793c1d0bda3",
   "metadata": {},
   "outputs": [
    {
     "name": "stdout",
     "output_type": "stream",
     "text": [
      "UDP (no-bypass) 20% load:\n",
      "min: 1e-06ms\n",
      "avg: 1.6900799996000002ms\n",
      "99.9th: 9.211336577000962ms\n",
      "99.99th: 16.06713992779874ms\n",
      "max: 17.064937ms\n"
     ]
    }
   ],
   "source": [
    "ts = lib.parse_timestamps(\"udp_20load.dat\")\n",
    "lats = lib.compute_latencies(ts) / 1000000\n",
    "print('UDP (no-bypass) 20% load:')\n",
    "print(f'min: {np.min(lats)}ms')\n",
    "print(f'avg: {np.average(lats)}ms')\n",
    "print(f'99.9th: {np.percentile(lats, 99.9)}ms')\n",
    "print(f'99.99th: {np.percentile(lats, 99.99)}ms')\n",
    "print(f'max: {np.max(lats)}ms')"
   ]
  },
  {
   "cell_type": "code",
   "execution_count": 10,
   "id": "8da7ab16-93ce-4fc3-bb65-cbf9d735e1a1",
   "metadata": {},
   "outputs": [
    {
     "name": "stdout",
     "output_type": "stream",
     "text": [
      "UDP (no-bypass) 50% load:\n",
      "min: 1e-06ms\n",
      "avg: 2.9122683108000005ms\n",
      "99.9th: 66.59162851500102ms\n",
      "99.99th: 74.32889592739873ms\n",
      "max: 75.325104ms\n"
     ]
    }
   ],
   "source": [
    "ts = lib.parse_timestamps(\"udp_50load.dat\")\n",
    "lats = lib.compute_latencies(ts) / 1000000\n",
    "print('UDP (no-bypass) 50% load:')\n",
    "print(f'min: {np.min(lats)}ms')\n",
    "print(f'avg: {np.average(lats)}ms')\n",
    "print(f'99.9th: {np.percentile(lats, 99.9)}ms')\n",
    "print(f'99.99th: {np.percentile(lats, 99.99)}ms')\n",
    "print(f'max: {np.max(lats)}ms')"
   ]
  },
  {
   "cell_type": "code",
   "execution_count": 12,
   "id": "41d78d4e-359a-4336-80c8-2dd6f2c51e4d",
   "metadata": {},
   "outputs": [
    {
     "name": "stdout",
     "output_type": "stream",
     "text": [
      "UDP (no-bypass) 80% load:\n",
      "min: 1e-06ms\n",
      "avg: 1.8234833934500003ms\n",
      "99.9th: 19.805120706000185ms\n",
      "99.99th: 24.225986023099697ms\n",
      "max: 24.844656ms\n"
     ]
    }
   ],
   "source": [
    "ts = lib.parse_timestamps(\"udp_80load2.dat\")\n",
    "lats = lib.compute_latencies(ts) / 1000000\n",
    "print('UDP (no-bypass) 80% load:')\n",
    "print(f'min: {np.min(lats)}ms')\n",
    "print(f'avg: {np.average(lats)}ms')\n",
    "print(f'99.9th: {np.percentile(lats, 99.9)}ms')\n",
    "print(f'99.99th: {np.percentile(lats, 99.99)}ms')\n",
    "print(f'max: {np.max(lats)}ms')"
   ]
  }
 ],
 "metadata": {
  "kernelspec": {
   "display_name": "Python 3 (ipykernel)",
   "language": "python",
   "name": "python3"
  },
  "language_info": {
   "codemirror_mode": {
    "name": "ipython",
    "version": 3
   },
   "file_extension": ".py",
   "mimetype": "text/x-python",
   "name": "python",
   "nbconvert_exporter": "python",
   "pygments_lexer": "ipython3",
   "version": "3.12.3"
  }
 },
 "nbformat": 4,
 "nbformat_minor": 5
}
